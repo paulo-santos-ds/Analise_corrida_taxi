{
 "cells": [
  {
   "cell_type": "markdown",
   "metadata": {},
   "source": [
    "# Análise exploratória de dados (Python)"
   ]
  },
  {
   "cell_type": "markdown",
   "metadata": {},
   "source": [
    "## Dicionario de dados\n",
    "\n",
    "start_ts  - \"data e hora de coleta\"\n",
    "\n",
    "weather_conditions  - \"condições meteorológicas no momento em que a corrida começou\"\n",
    "\n",
    "duration_seconds  -  \"duração da corrida em segundos\""
   ]
  },
  {
   "cell_type": "markdown",
   "metadata": {},
   "source": [
    "## Importando as bibliotecas\n"
   ]
  },
  {
   "cell_type": "code",
   "execution_count": 2,
   "metadata": {},
   "outputs": [],
   "source": [
    "import matplotlib.pyplot as plt\n",
    "import seaborn as sns\n",
    "import pandas as pd\n",
    "import numpy as np\n",
    "from scipy import stats"
   ]
  },
  {
   "cell_type": "markdown",
   "metadata": {},
   "source": [
    "## Carregando os dados"
   ]
  },
  {
   "cell_type": "code",
   "execution_count": 7,
   "metadata": {},
   "outputs": [],
   "source": [
    "df_corridas = pd.read_csv(\"moved_project_sql_result_01.csv\")\n",
    "df_bairro = pd.read_csv(\"moved_project_sql_result_04.csv\")\n",
    "df_viagem = pd.read_csv(\"moved_project_sql_result_07.csv\")\n"
   ]
  },
  {
   "cell_type": "markdown",
   "metadata": {},
   "source": [
    "### Observação tipo de colunas das corridas"
   ]
  },
  {
   "cell_type": "code",
   "execution_count": 8,
   "metadata": {},
   "outputs": [
    {
     "data": {
      "text/html": [
       "<div>\n",
       "<style scoped>\n",
       "    .dataframe tbody tr th:only-of-type {\n",
       "        vertical-align: middle;\n",
       "    }\n",
       "\n",
       "    .dataframe tbody tr th {\n",
       "        vertical-align: top;\n",
       "    }\n",
       "\n",
       "    .dataframe thead th {\n",
       "        text-align: right;\n",
       "    }\n",
       "</style>\n",
       "<table border=\"1\" class=\"dataframe\">\n",
       "  <thead>\n",
       "    <tr style=\"text-align: right;\">\n",
       "      <th></th>\n",
       "      <th>company_name</th>\n",
       "      <th>trips_amount</th>\n",
       "    </tr>\n",
       "  </thead>\n",
       "  <tbody>\n",
       "    <tr>\n",
       "      <th>0</th>\n",
       "      <td>Flash Cab</td>\n",
       "      <td>19558</td>\n",
       "    </tr>\n",
       "    <tr>\n",
       "      <th>1</th>\n",
       "      <td>Taxi Affiliation Services</td>\n",
       "      <td>11422</td>\n",
       "    </tr>\n",
       "    <tr>\n",
       "      <th>2</th>\n",
       "      <td>Medallion Leasin</td>\n",
       "      <td>10367</td>\n",
       "    </tr>\n",
       "    <tr>\n",
       "      <th>3</th>\n",
       "      <td>Yellow Cab</td>\n",
       "      <td>9888</td>\n",
       "    </tr>\n",
       "    <tr>\n",
       "      <th>4</th>\n",
       "      <td>Taxi Affiliation Service Yellow</td>\n",
       "      <td>9299</td>\n",
       "    </tr>\n",
       "  </tbody>\n",
       "</table>\n",
       "</div>"
      ],
      "text/plain": [
       "                      company_name  trips_amount\n",
       "0                        Flash Cab         19558\n",
       "1        Taxi Affiliation Services         11422\n",
       "2                 Medallion Leasin         10367\n",
       "3                       Yellow Cab          9888\n",
       "4  Taxi Affiliation Service Yellow          9299"
      ]
     },
     "execution_count": 8,
     "metadata": {},
     "output_type": "execute_result"
    }
   ],
   "source": [
    "# (trips_amount) o número de corridas para cada empresa de táxi de 15 a 16 de novembro de 2017.\n",
    "df_corridas.head()"
   ]
  },
  {
   "cell_type": "markdown",
   "metadata": {},
   "source": [
    "### Obsrvação tipo de colunas dos bairros"
   ]
  },
  {
   "cell_type": "code",
   "execution_count": 9,
   "metadata": {},
   "outputs": [
    {
     "data": {
      "text/html": [
       "<div>\n",
       "<style scoped>\n",
       "    .dataframe tbody tr th:only-of-type {\n",
       "        vertical-align: middle;\n",
       "    }\n",
       "\n",
       "    .dataframe tbody tr th {\n",
       "        vertical-align: top;\n",
       "    }\n",
       "\n",
       "    .dataframe thead th {\n",
       "        text-align: right;\n",
       "    }\n",
       "</style>\n",
       "<table border=\"1\" class=\"dataframe\">\n",
       "  <thead>\n",
       "    <tr style=\"text-align: right;\">\n",
       "      <th></th>\n",
       "      <th>dropoff_location_name</th>\n",
       "      <th>average_trips</th>\n",
       "    </tr>\n",
       "  </thead>\n",
       "  <tbody>\n",
       "    <tr>\n",
       "      <th>0</th>\n",
       "      <td>Loop</td>\n",
       "      <td>10727.466667</td>\n",
       "    </tr>\n",
       "    <tr>\n",
       "      <th>1</th>\n",
       "      <td>River North</td>\n",
       "      <td>9523.666667</td>\n",
       "    </tr>\n",
       "    <tr>\n",
       "      <th>2</th>\n",
       "      <td>Streeterville</td>\n",
       "      <td>6664.666667</td>\n",
       "    </tr>\n",
       "    <tr>\n",
       "      <th>3</th>\n",
       "      <td>West Loop</td>\n",
       "      <td>5163.666667</td>\n",
       "    </tr>\n",
       "    <tr>\n",
       "      <th>4</th>\n",
       "      <td>O'Hare</td>\n",
       "      <td>2546.900000</td>\n",
       "    </tr>\n",
       "  </tbody>\n",
       "</table>\n",
       "</div>"
      ],
      "text/plain": [
       "  dropoff_location_name  average_trips\n",
       "0                  Loop   10727.466667\n",
       "1           River North    9523.666667\n",
       "2         Streeterville    6664.666667\n",
       "3             West Loop    5163.666667\n",
       "4                O'Hare    2546.900000"
      ]
     },
     "execution_count": 9,
     "metadata": {},
     "output_type": "execute_result"
    }
   ],
   "source": [
    "# (dropoff_location_name) bairros de Chicago onde as corridas terminaram\n",
    "# (average_trips): o número médio de viagens que terminaram em cada bairro em novembro de 2017.\n",
    "\n",
    "df_bairro.head()"
   ]
  },
  {
   "cell_type": "markdown",
   "metadata": {},
   "source": [
    "### Obsrvação tipo de colunas dos bairros Estatistica dos dados"
   ]
  },
  {
   "cell_type": "code",
   "execution_count": 10,
   "metadata": {},
   "outputs": [
    {
     "data": {
      "text/html": [
       "<div>\n",
       "<style scoped>\n",
       "    .dataframe tbody tr th:only-of-type {\n",
       "        vertical-align: middle;\n",
       "    }\n",
       "\n",
       "    .dataframe tbody tr th {\n",
       "        vertical-align: top;\n",
       "    }\n",
       "\n",
       "    .dataframe thead th {\n",
       "        text-align: right;\n",
       "    }\n",
       "</style>\n",
       "<table border=\"1\" class=\"dataframe\">\n",
       "  <thead>\n",
       "    <tr style=\"text-align: right;\">\n",
       "      <th></th>\n",
       "      <th>average_trips</th>\n",
       "    </tr>\n",
       "  </thead>\n",
       "  <tbody>\n",
       "    <tr>\n",
       "      <th>count</th>\n",
       "      <td>94.000000</td>\n",
       "    </tr>\n",
       "    <tr>\n",
       "      <th>mean</th>\n",
       "      <td>599.953728</td>\n",
       "    </tr>\n",
       "    <tr>\n",
       "      <th>std</th>\n",
       "      <td>1714.591098</td>\n",
       "    </tr>\n",
       "    <tr>\n",
       "      <th>min</th>\n",
       "      <td>1.800000</td>\n",
       "    </tr>\n",
       "    <tr>\n",
       "      <th>25%</th>\n",
       "      <td>14.266667</td>\n",
       "    </tr>\n",
       "    <tr>\n",
       "      <th>50%</th>\n",
       "      <td>52.016667</td>\n",
       "    </tr>\n",
       "    <tr>\n",
       "      <th>75%</th>\n",
       "      <td>298.858333</td>\n",
       "    </tr>\n",
       "    <tr>\n",
       "      <th>max</th>\n",
       "      <td>10727.466667</td>\n",
       "    </tr>\n",
       "  </tbody>\n",
       "</table>\n",
       "</div>"
      ],
      "text/plain": [
       "       average_trips\n",
       "count      94.000000\n",
       "mean      599.953728\n",
       "std      1714.591098\n",
       "min         1.800000\n",
       "25%        14.266667\n",
       "50%        52.016667\n",
       "75%       298.858333\n",
       "max     10727.466667"
      ]
     },
     "execution_count": 10,
     "metadata": {},
     "output_type": "execute_result"
    }
   ],
   "source": [
    "df_bairro.describe()\n",
    "\n",
    "#foi observado um numero muito discrepante o max\t10727.466667\n"
   ]
  },
  {
   "cell_type": "markdown",
   "metadata": {},
   "source": [
    "### Observação tipo de colunas das viagens"
   ]
  },
  {
   "cell_type": "code",
   "execution_count": 11,
   "metadata": {},
   "outputs": [
    {
     "data": {
      "text/html": [
       "<div>\n",
       "<style scoped>\n",
       "    .dataframe tbody tr th:only-of-type {\n",
       "        vertical-align: middle;\n",
       "    }\n",
       "\n",
       "    .dataframe tbody tr th {\n",
       "        vertical-align: top;\n",
       "    }\n",
       "\n",
       "    .dataframe thead th {\n",
       "        text-align: right;\n",
       "    }\n",
       "</style>\n",
       "<table border=\"1\" class=\"dataframe\">\n",
       "  <thead>\n",
       "    <tr style=\"text-align: right;\">\n",
       "      <th></th>\n",
       "      <th>start_ts</th>\n",
       "      <th>weather_conditions</th>\n",
       "      <th>duration_seconds</th>\n",
       "    </tr>\n",
       "  </thead>\n",
       "  <tbody>\n",
       "    <tr>\n",
       "      <th>0</th>\n",
       "      <td>2017-11-25 16:00:00</td>\n",
       "      <td>Good</td>\n",
       "      <td>2410.0</td>\n",
       "    </tr>\n",
       "    <tr>\n",
       "      <th>1</th>\n",
       "      <td>2017-11-25 14:00:00</td>\n",
       "      <td>Good</td>\n",
       "      <td>1920.0</td>\n",
       "    </tr>\n",
       "    <tr>\n",
       "      <th>2</th>\n",
       "      <td>2017-11-25 12:00:00</td>\n",
       "      <td>Good</td>\n",
       "      <td>1543.0</td>\n",
       "    </tr>\n",
       "    <tr>\n",
       "      <th>3</th>\n",
       "      <td>2017-11-04 10:00:00</td>\n",
       "      <td>Good</td>\n",
       "      <td>2512.0</td>\n",
       "    </tr>\n",
       "    <tr>\n",
       "      <th>4</th>\n",
       "      <td>2017-11-11 07:00:00</td>\n",
       "      <td>Good</td>\n",
       "      <td>1440.0</td>\n",
       "    </tr>\n",
       "  </tbody>\n",
       "</table>\n",
       "</div>"
      ],
      "text/plain": [
       "              start_ts weather_conditions  duration_seconds\n",
       "0  2017-11-25 16:00:00               Good            2410.0\n",
       "1  2017-11-25 14:00:00               Good            1920.0\n",
       "2  2017-11-25 12:00:00               Good            1543.0\n",
       "3  2017-11-04 10:00:00               Good            2512.0\n",
       "4  2017-11-11 07:00:00               Good            1440.0"
      ]
     },
     "execution_count": 11,
     "metadata": {},
     "output_type": "execute_result"
    }
   ],
   "source": [
    "# (start_ts)  data e hora de coleta\n",
    "# (weather_conditions) condições meteorológicas no momento em que a corrida começou\n",
    "#(duration_seconds) duração da corrida em segundos\n",
    "\n",
    "df_viagem.head()"
   ]
  },
  {
   "cell_type": "markdown",
   "metadata": {},
   "source": [
    "### Observação tipo de colunas das viagens Estatistica dos dados"
   ]
  },
  {
   "cell_type": "code",
   "execution_count": 12,
   "metadata": {},
   "outputs": [
    {
     "data": {
      "text/html": [
       "<div>\n",
       "<style scoped>\n",
       "    .dataframe tbody tr th:only-of-type {\n",
       "        vertical-align: middle;\n",
       "    }\n",
       "\n",
       "    .dataframe tbody tr th {\n",
       "        vertical-align: top;\n",
       "    }\n",
       "\n",
       "    .dataframe thead th {\n",
       "        text-align: right;\n",
       "    }\n",
       "</style>\n",
       "<table border=\"1\" class=\"dataframe\">\n",
       "  <thead>\n",
       "    <tr style=\"text-align: right;\">\n",
       "      <th></th>\n",
       "      <th>duration_seconds</th>\n",
       "    </tr>\n",
       "  </thead>\n",
       "  <tbody>\n",
       "    <tr>\n",
       "      <th>count</th>\n",
       "      <td>1068.000000</td>\n",
       "    </tr>\n",
       "    <tr>\n",
       "      <th>mean</th>\n",
       "      <td>2071.731273</td>\n",
       "    </tr>\n",
       "    <tr>\n",
       "      <th>std</th>\n",
       "      <td>769.461125</td>\n",
       "    </tr>\n",
       "    <tr>\n",
       "      <th>min</th>\n",
       "      <td>0.000000</td>\n",
       "    </tr>\n",
       "    <tr>\n",
       "      <th>25%</th>\n",
       "      <td>1438.250000</td>\n",
       "    </tr>\n",
       "    <tr>\n",
       "      <th>50%</th>\n",
       "      <td>1980.000000</td>\n",
       "    </tr>\n",
       "    <tr>\n",
       "      <th>75%</th>\n",
       "      <td>2580.000000</td>\n",
       "    </tr>\n",
       "    <tr>\n",
       "      <th>max</th>\n",
       "      <td>7440.000000</td>\n",
       "    </tr>\n",
       "  </tbody>\n",
       "</table>\n",
       "</div>"
      ],
      "text/plain": [
       "       duration_seconds\n",
       "count       1068.000000\n",
       "mean        2071.731273\n",
       "std          769.461125\n",
       "min            0.000000\n",
       "25%         1438.250000\n",
       "50%         1980.000000\n",
       "75%         2580.000000\n",
       "max         7440.000000"
      ]
     },
     "execution_count": 12,
     "metadata": {},
     "output_type": "execute_result"
    }
   ],
   "source": [
    "df_viagem.describe()\n",
    "\n",
    "#foi observado valor descrepante outlier max\t7440.000000\n"
   ]
  },
  {
   "cell_type": "markdown",
   "metadata": {},
   "source": [
    "## Verificação tipos de dados"
   ]
  },
  {
   "cell_type": "markdown",
   "metadata": {},
   "source": [
    "### Verificação tipo de dados dataset \" corridas\""
   ]
  },
  {
   "cell_type": "code",
   "execution_count": 13,
   "metadata": {},
   "outputs": [
    {
     "data": {
      "text/plain": [
       "<bound method NDFrame.astype of 0     19558\n",
       "1     11422\n",
       "2     10367\n",
       "3      9888\n",
       "4      9299\n",
       "      ...  \n",
       "59        7\n",
       "60        7\n",
       "61        5\n",
       "62        3\n",
       "63        2\n",
       "Name: trips_amount, Length: 64, dtype: int64>"
      ]
     },
     "execution_count": 13,
     "metadata": {},
     "output_type": "execute_result"
    }
   ],
   "source": [
    "\n",
    "df_corridas['trips_amount'].astype"
   ]
  },
  {
   "cell_type": "markdown",
   "metadata": {},
   "source": [
    "### Verificação tipo de dados dataset \" bairro\""
   ]
  },
  {
   "cell_type": "code",
   "execution_count": 14,
   "metadata": {},
   "outputs": [
    {
     "data": {
      "text/plain": [
       "<bound method NDFrame.astype of 0     10727.466667\n",
       "1      9523.666667\n",
       "2      6664.666667\n",
       "3      5163.666667\n",
       "4      2546.900000\n",
       "          ...     \n",
       "89        3.137931\n",
       "90        3.117647\n",
       "91        2.333333\n",
       "92        1.961538\n",
       "93        1.800000\n",
       "Name: average_trips, Length: 94, dtype: float64>"
      ]
     },
     "execution_count": 14,
     "metadata": {},
     "output_type": "execute_result"
    }
   ],
   "source": [
    "df_bairro['average_trips'].astype\n"
   ]
  },
  {
   "cell_type": "markdown",
   "metadata": {},
   "source": [
    "### Verificação tipo de dados dataset \" bairro\" estatistica dos dados"
   ]
  },
  {
   "cell_type": "code",
   "execution_count": 15,
   "metadata": {},
   "outputs": [
    {
     "data": {
      "text/html": [
       "<div>\n",
       "<style scoped>\n",
       "    .dataframe tbody tr th:only-of-type {\n",
       "        vertical-align: middle;\n",
       "    }\n",
       "\n",
       "    .dataframe tbody tr th {\n",
       "        vertical-align: top;\n",
       "    }\n",
       "\n",
       "    .dataframe thead th {\n",
       "        text-align: right;\n",
       "    }\n",
       "</style>\n",
       "<table border=\"1\" class=\"dataframe\">\n",
       "  <thead>\n",
       "    <tr style=\"text-align: right;\">\n",
       "      <th></th>\n",
       "      <th>average_trips</th>\n",
       "    </tr>\n",
       "  </thead>\n",
       "  <tbody>\n",
       "    <tr>\n",
       "      <th>count</th>\n",
       "      <td>94.000000</td>\n",
       "    </tr>\n",
       "    <tr>\n",
       "      <th>mean</th>\n",
       "      <td>599.953728</td>\n",
       "    </tr>\n",
       "    <tr>\n",
       "      <th>std</th>\n",
       "      <td>1714.591098</td>\n",
       "    </tr>\n",
       "    <tr>\n",
       "      <th>min</th>\n",
       "      <td>1.800000</td>\n",
       "    </tr>\n",
       "    <tr>\n",
       "      <th>25%</th>\n",
       "      <td>14.266667</td>\n",
       "    </tr>\n",
       "    <tr>\n",
       "      <th>50%</th>\n",
       "      <td>52.016667</td>\n",
       "    </tr>\n",
       "    <tr>\n",
       "      <th>75%</th>\n",
       "      <td>298.858333</td>\n",
       "    </tr>\n",
       "    <tr>\n",
       "      <th>max</th>\n",
       "      <td>10727.466667</td>\n",
       "    </tr>\n",
       "  </tbody>\n",
       "</table>\n",
       "</div>"
      ],
      "text/plain": [
       "       average_trips\n",
       "count      94.000000\n",
       "mean      599.953728\n",
       "std      1714.591098\n",
       "min         1.800000\n",
       "25%        14.266667\n",
       "50%        52.016667\n",
       "75%       298.858333\n",
       "max     10727.466667"
      ]
     },
     "execution_count": 15,
     "metadata": {},
     "output_type": "execute_result"
    }
   ],
   "source": [
    "#estatistica dos dados\n",
    "df_bairro.describe()"
   ]
  },
  {
   "cell_type": "markdown",
   "metadata": {},
   "source": [
    "### Verificação tipo de dados dataset \"duração corrida\"\n"
   ]
  },
  {
   "cell_type": "code",
   "execution_count": 16,
   "metadata": {},
   "outputs": [
    {
     "data": {
      "text/plain": [
       "<bound method NDFrame.astype of 0       2410.0\n",
       "1       1920.0\n",
       "2       1543.0\n",
       "3       2512.0\n",
       "4       1440.0\n",
       "         ...  \n",
       "1063       0.0\n",
       "1064    1318.0\n",
       "1065    2100.0\n",
       "1066    1380.0\n",
       "1067    2834.0\n",
       "Name: duration_seconds, Length: 1068, dtype: float64>"
      ]
     },
     "execution_count": 16,
     "metadata": {},
     "output_type": "execute_result"
    }
   ],
   "source": [
    "df_viagem['duration_seconds'].astype\n"
   ]
  },
  {
   "cell_type": "markdown",
   "metadata": {},
   "source": [
    "### Verificação tipo de dados dataset \"duração corrida\" Estatistica dos dados"
   ]
  },
  {
   "cell_type": "code",
   "execution_count": 17,
   "metadata": {},
   "outputs": [
    {
     "data": {
      "text/html": [
       "<div>\n",
       "<style scoped>\n",
       "    .dataframe tbody tr th:only-of-type {\n",
       "        vertical-align: middle;\n",
       "    }\n",
       "\n",
       "    .dataframe tbody tr th {\n",
       "        vertical-align: top;\n",
       "    }\n",
       "\n",
       "    .dataframe thead th {\n",
       "        text-align: right;\n",
       "    }\n",
       "</style>\n",
       "<table border=\"1\" class=\"dataframe\">\n",
       "  <thead>\n",
       "    <tr style=\"text-align: right;\">\n",
       "      <th></th>\n",
       "      <th>duration_seconds</th>\n",
       "    </tr>\n",
       "  </thead>\n",
       "  <tbody>\n",
       "    <tr>\n",
       "      <th>count</th>\n",
       "      <td>1068.000000</td>\n",
       "    </tr>\n",
       "    <tr>\n",
       "      <th>mean</th>\n",
       "      <td>2071.731273</td>\n",
       "    </tr>\n",
       "    <tr>\n",
       "      <th>std</th>\n",
       "      <td>769.461125</td>\n",
       "    </tr>\n",
       "    <tr>\n",
       "      <th>min</th>\n",
       "      <td>0.000000</td>\n",
       "    </tr>\n",
       "    <tr>\n",
       "      <th>25%</th>\n",
       "      <td>1438.250000</td>\n",
       "    </tr>\n",
       "    <tr>\n",
       "      <th>50%</th>\n",
       "      <td>1980.000000</td>\n",
       "    </tr>\n",
       "    <tr>\n",
       "      <th>75%</th>\n",
       "      <td>2580.000000</td>\n",
       "    </tr>\n",
       "    <tr>\n",
       "      <th>max</th>\n",
       "      <td>7440.000000</td>\n",
       "    </tr>\n",
       "  </tbody>\n",
       "</table>\n",
       "</div>"
      ],
      "text/plain": [
       "       duration_seconds\n",
       "count       1068.000000\n",
       "mean        2071.731273\n",
       "std          769.461125\n",
       "min            0.000000\n",
       "25%         1438.250000\n",
       "50%         1980.000000\n",
       "75%         2580.000000\n",
       "max         7440.000000"
      ]
     },
     "execution_count": 17,
     "metadata": {},
     "output_type": "execute_result"
    }
   ],
   "source": [
    "df_viagem.describe()"
   ]
  },
  {
   "cell_type": "markdown",
   "metadata": {},
   "source": [
    "### identificar os 10 principais bairros em termos de destinos"
   ]
  },
  {
   "cell_type": "code",
   "execution_count": 18,
   "metadata": {},
   "outputs": [
    {
     "data": {
      "text/html": [
       "<div>\n",
       "<style scoped>\n",
       "    .dataframe tbody tr th:only-of-type {\n",
       "        vertical-align: middle;\n",
       "    }\n",
       "\n",
       "    .dataframe tbody tr th {\n",
       "        vertical-align: top;\n",
       "    }\n",
       "\n",
       "    .dataframe thead th {\n",
       "        text-align: right;\n",
       "    }\n",
       "</style>\n",
       "<table border=\"1\" class=\"dataframe\">\n",
       "  <thead>\n",
       "    <tr style=\"text-align: right;\">\n",
       "      <th></th>\n",
       "      <th>dropoff_location_name</th>\n",
       "      <th>average_trips</th>\n",
       "    </tr>\n",
       "  </thead>\n",
       "  <tbody>\n",
       "    <tr>\n",
       "      <th>0</th>\n",
       "      <td>Loop</td>\n",
       "      <td>10727.466667</td>\n",
       "    </tr>\n",
       "    <tr>\n",
       "      <th>1</th>\n",
       "      <td>River North</td>\n",
       "      <td>9523.666667</td>\n",
       "    </tr>\n",
       "    <tr>\n",
       "      <th>2</th>\n",
       "      <td>Streeterville</td>\n",
       "      <td>6664.666667</td>\n",
       "    </tr>\n",
       "    <tr>\n",
       "      <th>3</th>\n",
       "      <td>West Loop</td>\n",
       "      <td>5163.666667</td>\n",
       "    </tr>\n",
       "    <tr>\n",
       "      <th>4</th>\n",
       "      <td>O'Hare</td>\n",
       "      <td>2546.900000</td>\n",
       "    </tr>\n",
       "    <tr>\n",
       "      <th>5</th>\n",
       "      <td>Lake View</td>\n",
       "      <td>2420.966667</td>\n",
       "    </tr>\n",
       "    <tr>\n",
       "      <th>6</th>\n",
       "      <td>Grant Park</td>\n",
       "      <td>2068.533333</td>\n",
       "    </tr>\n",
       "    <tr>\n",
       "      <th>7</th>\n",
       "      <td>Museum Campus</td>\n",
       "      <td>1510.000000</td>\n",
       "    </tr>\n",
       "    <tr>\n",
       "      <th>8</th>\n",
       "      <td>Gold Coast</td>\n",
       "      <td>1364.233333</td>\n",
       "    </tr>\n",
       "    <tr>\n",
       "      <th>9</th>\n",
       "      <td>Sheffield &amp; DePaul</td>\n",
       "      <td>1259.766667</td>\n",
       "    </tr>\n",
       "  </tbody>\n",
       "</table>\n",
       "</div>"
      ],
      "text/plain": [
       "  dropoff_location_name  average_trips\n",
       "0                  Loop   10727.466667\n",
       "1           River North    9523.666667\n",
       "2         Streeterville    6664.666667\n",
       "3             West Loop    5163.666667\n",
       "4                O'Hare    2546.900000\n",
       "5             Lake View    2420.966667\n",
       "6            Grant Park    2068.533333\n",
       "7         Museum Campus    1510.000000\n",
       "8            Gold Coast    1364.233333\n",
       "9    Sheffield & DePaul    1259.766667"
      ]
     },
     "execution_count": 18,
     "metadata": {},
     "output_type": "execute_result"
    }
   ],
   "source": [
    "df_bairro.head(10).sort_values(by='average_trips', ascending=False)"
   ]
  },
  {
   "cell_type": "markdown",
   "metadata": {},
   "source": [
    "### fazer gráficos: empresas de táxi e número de corridas, top 10 bairros por número de corridas em que esse bairro é destino"
   ]
  },
  {
   "cell_type": "markdown",
   "metadata": {},
   "source": [
    "#### empresas de táxi e número de corridas"
   ]
  },
  {
   "cell_type": "code",
   "execution_count": 19,
   "metadata": {},
   "outputs": [
    {
     "data": {
      "text/html": [
       "<div>\n",
       "<style scoped>\n",
       "    .dataframe tbody tr th:only-of-type {\n",
       "        vertical-align: middle;\n",
       "    }\n",
       "\n",
       "    .dataframe tbody tr th {\n",
       "        vertical-align: top;\n",
       "    }\n",
       "\n",
       "    .dataframe thead th {\n",
       "        text-align: right;\n",
       "    }\n",
       "</style>\n",
       "<table border=\"1\" class=\"dataframe\">\n",
       "  <thead>\n",
       "    <tr style=\"text-align: right;\">\n",
       "      <th></th>\n",
       "      <th>company_name</th>\n",
       "      <th>trips_amount</th>\n",
       "    </tr>\n",
       "  </thead>\n",
       "  <tbody>\n",
       "    <tr>\n",
       "      <th>0</th>\n",
       "      <td>Flash Cab</td>\n",
       "      <td>19558</td>\n",
       "    </tr>\n",
       "    <tr>\n",
       "      <th>1</th>\n",
       "      <td>Taxi Affiliation Services</td>\n",
       "      <td>11422</td>\n",
       "    </tr>\n",
       "    <tr>\n",
       "      <th>2</th>\n",
       "      <td>Medallion Leasin</td>\n",
       "      <td>10367</td>\n",
       "    </tr>\n",
       "    <tr>\n",
       "      <th>3</th>\n",
       "      <td>Yellow Cab</td>\n",
       "      <td>9888</td>\n",
       "    </tr>\n",
       "    <tr>\n",
       "      <th>4</th>\n",
       "      <td>Taxi Affiliation Service Yellow</td>\n",
       "      <td>9299</td>\n",
       "    </tr>\n",
       "    <tr>\n",
       "      <th>5</th>\n",
       "      <td>Chicago Carriage Cab Corp</td>\n",
       "      <td>9181</td>\n",
       "    </tr>\n",
       "    <tr>\n",
       "      <th>6</th>\n",
       "      <td>City Service</td>\n",
       "      <td>8448</td>\n",
       "    </tr>\n",
       "    <tr>\n",
       "      <th>7</th>\n",
       "      <td>Sun Taxi</td>\n",
       "      <td>7701</td>\n",
       "    </tr>\n",
       "    <tr>\n",
       "      <th>8</th>\n",
       "      <td>Star North Management LLC</td>\n",
       "      <td>7455</td>\n",
       "    </tr>\n",
       "    <tr>\n",
       "      <th>9</th>\n",
       "      <td>Blue Ribbon Taxi Association Inc.</td>\n",
       "      <td>5953</td>\n",
       "    </tr>\n",
       "  </tbody>\n",
       "</table>\n",
       "</div>"
      ],
      "text/plain": [
       "                        company_name  trips_amount\n",
       "0                          Flash Cab         19558\n",
       "1          Taxi Affiliation Services         11422\n",
       "2                   Medallion Leasin         10367\n",
       "3                         Yellow Cab          9888\n",
       "4    Taxi Affiliation Service Yellow          9299\n",
       "5          Chicago Carriage Cab Corp          9181\n",
       "6                       City Service          8448\n",
       "7                           Sun Taxi          7701\n",
       "8          Star North Management LLC          7455\n",
       "9  Blue Ribbon Taxi Association Inc.          5953"
      ]
     },
     "execution_count": 19,
     "metadata": {},
     "output_type": "execute_result"
    }
   ],
   "source": [
    "#observando os dados\n",
    "df_corridas.head(10).sort_values(by='trips_amount', ascending=False)\n"
   ]
  },
  {
   "cell_type": "code",
   "execution_count": 26,
   "metadata": {},
   "outputs": [
    {
     "data": {
      "image/png": "[encoded data removed]",
      "text/plain": [
       "<Figure size 1000x600 with 1 Axes>"
      ]
     },
     "metadata": {},
     "output_type": "display_data"
    }
   ],
   "source": [
    "#criação dos grafico\n",
    "df = pd.DataFrame(df_corridas)\n",
    "\n",
    "top_10_corridas = df_corridas.nlargest(10, 'trips_amount').sort_values(by='trips_amount', ascending=False)\n",
    "\n",
    "# Criando o gráfico de barras horizontais\n",
    "fig, ax = plt.subplots(figsize=(10, 6))\n",
    "bars = ax.barh(top_10_corridas['company_name'], top_10_corridas['trips_amount'], color='Blue')\n",
    "\n",
    "# Adicionando os valores nas barras\n",
    "for bar in bars:\n",
    "    width = bar.get_width()\n",
    "    ax.text(width, bar.get_y() + bar.get_height() / 2, f'{int(width)}', va='center')\n",
    "\n",
    "# Configurações do gráfico\n",
    "plt.xlabel('Número de Corridas')\n",
    "plt.ylabel('Empresas de Táxi')\n",
    "plt.title('Top 10 - Número de Corridas por Empresa de Táxi ')\n",
    "\n",
    "# Exibindo o gráfico\n",
    "plt.show()\n"
   ]
  },
  {
   "cell_type": "markdown",
   "metadata": {},
   "source": [
    "#### conclusões com base no gráfico empresas de taxi top 10"
   ]
  },
  {
   "cell_type": "markdown",
   "metadata": {},
   "source": [
    "##### o grafico apreenta distribuição uniforme dos valores:\n",
    "permite uma comparação clara do volume de corridas entre as empresas, destacando a “Flash Cab” como a mais ativa."
   ]
  },
  {
   "cell_type": "markdown",
   "metadata": {},
   "source": [
    "#### top 10 bairros por número de corridas em que esse bairro é destino"
   ]
  },
  {
   "cell_type": "code",
   "execution_count": 21,
   "metadata": {},
   "outputs": [
    {
     "data": {
      "text/html": [
       "<div>\n",
       "<style scoped>\n",
       "    .dataframe tbody tr th:only-of-type {\n",
       "        vertical-align: middle;\n",
       "    }\n",
       "\n",
       "    .dataframe tbody tr th {\n",
       "        vertical-align: top;\n",
       "    }\n",
       "\n",
       "    .dataframe thead th {\n",
       "        text-align: right;\n",
       "    }\n",
       "</style>\n",
       "<table border=\"1\" class=\"dataframe\">\n",
       "  <thead>\n",
       "    <tr style=\"text-align: right;\">\n",
       "      <th></th>\n",
       "      <th>dropoff_location_name</th>\n",
       "      <th>average_trips</th>\n",
       "    </tr>\n",
       "  </thead>\n",
       "  <tbody>\n",
       "    <tr>\n",
       "      <th>0</th>\n",
       "      <td>Loop</td>\n",
       "      <td>10727.466667</td>\n",
       "    </tr>\n",
       "    <tr>\n",
       "      <th>1</th>\n",
       "      <td>River North</td>\n",
       "      <td>9523.666667</td>\n",
       "    </tr>\n",
       "    <tr>\n",
       "      <th>2</th>\n",
       "      <td>Streeterville</td>\n",
       "      <td>6664.666667</td>\n",
       "    </tr>\n",
       "    <tr>\n",
       "      <th>3</th>\n",
       "      <td>West Loop</td>\n",
       "      <td>5163.666667</td>\n",
       "    </tr>\n",
       "    <tr>\n",
       "      <th>4</th>\n",
       "      <td>O'Hare</td>\n",
       "      <td>2546.900000</td>\n",
       "    </tr>\n",
       "  </tbody>\n",
       "</table>\n",
       "</div>"
      ],
      "text/plain": [
       "  dropoff_location_name  average_trips\n",
       "0                  Loop   10727.466667\n",
       "1           River North    9523.666667\n",
       "2         Streeterville    6664.666667\n",
       "3             West Loop    5163.666667\n",
       "4                O'Hare    2546.900000"
      ]
     },
     "execution_count": 21,
     "metadata": {},
     "output_type": "execute_result"
    }
   ],
   "source": [
    "#observando os dados\n",
    "df_bairro.head()"
   ]
  },
  {
   "cell_type": "code",
   "execution_count": 27,
   "metadata": {},
   "outputs": [
    {
     "data": {
      "image/png": "[encoded data removed]",
      "text/plain": [
       "<Figure size 1000x600 with 1 Axes>"
      ]
     },
     "metadata": {},
     "output_type": "display_data"
    }
   ],
   "source": [
    "\n",
    "# Supondo que df_bairro já está definido com os dados e que 'trips_amount' é uma coluna numérica\n",
    "df = pd.DataFrame(df_bairro)\n",
    "\n",
    "# Selecionando os 10 bairros com maior número de corridas e ordenando de forma crescente\n",
    "top_10_bairro = df.nlargest(10, 'average_trips').sort_values(by='average_trips', ascending=True)\n",
    "\n",
    "# Criando o gráfico de barras horizontais\n",
    "fig, ax = plt.subplots(figsize=(10, 6))\n",
    "bars = ax.barh(top_10_bairro['dropoff_location_name'], top_10_bairro['average_trips'], color='Green')\n",
    "\n",
    "# Adicionando os valores nas barras\n",
    "for bar in bars:\n",
    "    width = bar.get_width()\n",
    "    ax.text(width, bar.get_y() + bar.get_height() / 2, f'{int(width)}', va='center')\n",
    "\n",
    "# Configurações do gráfico\n",
    "plt.xlabel('Número de Corridas')\n",
    "plt.ylabel('Local de Destino (Bairro)')\n",
    "plt.title('Top 10 - Número de Viagem por Bairro ')\n",
    "\n",
    "# Exibindo o gráfico\n",
    "plt.tight_layout()\n",
    "plt.show()\n",
    "\n"
   ]
  },
  {
   "cell_type": "markdown",
   "metadata": {},
   "source": [
    "#### conclusões com base no gráfico numero de viagem top 10"
   ]
  },
  {
   "cell_type": "markdown",
   "metadata": {},
   "source": [
    "#####  Aquantidade de viagem e bem distribuida:\n",
    "porem a partir do bairro west loop começa a se destacr pelo numero de viagem ate o loop que tem o maior numero de viagem observado"
   ]
  },
  {
   "cell_type": "markdown",
   "metadata": {},
   "source": [
    "## Testando hipóteses (Python)\n"
   ]
  },
  {
   "cell_type": "markdown",
   "metadata": {},
   "source": [
    "### A duração média dos passeios do Loop para o Aeroporto Internacional O'Hare muda nos sábados chuvosos"
   ]
  },
  {
   "cell_type": "code",
   "execution_count": 23,
   "metadata": {},
   "outputs": [
    {
     "data": {
      "text/html": [
       "<div>\n",
       "<style scoped>\n",
       "    .dataframe tbody tr th:only-of-type {\n",
       "        vertical-align: middle;\n",
       "    }\n",
       "\n",
       "    .dataframe tbody tr th {\n",
       "        vertical-align: top;\n",
       "    }\n",
       "\n",
       "    .dataframe thead th {\n",
       "        text-align: right;\n",
       "    }\n",
       "</style>\n",
       "<table border=\"1\" class=\"dataframe\">\n",
       "  <thead>\n",
       "    <tr style=\"text-align: right;\">\n",
       "      <th></th>\n",
       "      <th>start_ts</th>\n",
       "      <th>weather_conditions</th>\n",
       "      <th>duration_seconds</th>\n",
       "    </tr>\n",
       "  </thead>\n",
       "  <tbody>\n",
       "    <tr>\n",
       "      <th>0</th>\n",
       "      <td>2017-11-25 16:00:00</td>\n",
       "      <td>Good</td>\n",
       "      <td>2410.0</td>\n",
       "    </tr>\n",
       "    <tr>\n",
       "      <th>1</th>\n",
       "      <td>2017-11-25 14:00:00</td>\n",
       "      <td>Good</td>\n",
       "      <td>1920.0</td>\n",
       "    </tr>\n",
       "    <tr>\n",
       "      <th>2</th>\n",
       "      <td>2017-11-25 12:00:00</td>\n",
       "      <td>Good</td>\n",
       "      <td>1543.0</td>\n",
       "    </tr>\n",
       "    <tr>\n",
       "      <th>3</th>\n",
       "      <td>2017-11-04 10:00:00</td>\n",
       "      <td>Good</td>\n",
       "      <td>2512.0</td>\n",
       "    </tr>\n",
       "    <tr>\n",
       "      <th>4</th>\n",
       "      <td>2017-11-11 07:00:00</td>\n",
       "      <td>Good</td>\n",
       "      <td>1440.0</td>\n",
       "    </tr>\n",
       "    <tr>\n",
       "      <th>...</th>\n",
       "      <td>...</td>\n",
       "      <td>...</td>\n",
       "      <td>...</td>\n",
       "    </tr>\n",
       "    <tr>\n",
       "      <th>1063</th>\n",
       "      <td>2017-11-25 11:00:00</td>\n",
       "      <td>Good</td>\n",
       "      <td>0.0</td>\n",
       "    </tr>\n",
       "    <tr>\n",
       "      <th>1064</th>\n",
       "      <td>2017-11-11 10:00:00</td>\n",
       "      <td>Good</td>\n",
       "      <td>1318.0</td>\n",
       "    </tr>\n",
       "    <tr>\n",
       "      <th>1065</th>\n",
       "      <td>2017-11-11 13:00:00</td>\n",
       "      <td>Good</td>\n",
       "      <td>2100.0</td>\n",
       "    </tr>\n",
       "    <tr>\n",
       "      <th>1066</th>\n",
       "      <td>2017-11-11 08:00:00</td>\n",
       "      <td>Good</td>\n",
       "      <td>1380.0</td>\n",
       "    </tr>\n",
       "    <tr>\n",
       "      <th>1067</th>\n",
       "      <td>2017-11-04 16:00:00</td>\n",
       "      <td>Bad</td>\n",
       "      <td>2834.0</td>\n",
       "    </tr>\n",
       "  </tbody>\n",
       "</table>\n",
       "<p>1068 rows × 3 columns</p>\n",
       "</div>"
      ],
      "text/plain": [
       "                 start_ts weather_conditions  duration_seconds\n",
       "0     2017-11-25 16:00:00               Good            2410.0\n",
       "1     2017-11-25 14:00:00               Good            1920.0\n",
       "2     2017-11-25 12:00:00               Good            1543.0\n",
       "3     2017-11-04 10:00:00               Good            2512.0\n",
       "4     2017-11-11 07:00:00               Good            1440.0\n",
       "...                   ...                ...               ...\n",
       "1063  2017-11-25 11:00:00               Good               0.0\n",
       "1064  2017-11-11 10:00:00               Good            1318.0\n",
       "1065  2017-11-11 13:00:00               Good            2100.0\n",
       "1066  2017-11-11 08:00:00               Good            1380.0\n",
       "1067  2017-11-04 16:00:00                Bad            2834.0\n",
       "\n",
       "[1068 rows x 3 columns]"
      ]
     },
     "execution_count": 23,
     "metadata": {},
     "output_type": "execute_result"
    }
   ],
   "source": [
    "df_viagem"
   ]
  },
  {
   "cell_type": "code",
   "execution_count": null,
   "metadata": {},
   "outputs": [],
   "source": [
    "# Converte a coluna 'start_ts' para datetime\n",
    "df_viagem['data_formatada'] = pd.to_datetime(df_viagem['start_ts'], format='%Y-%m-%d')\n",
    "\n",
    "# Extrai o dia da semana\n",
    "df_viagem['dia_da_semana'] = df_viagem['data_formatada'].dt.day_name()\n",
    "\n",
    "# Filtra os dados para incluir apenas os sábados com condições climáticas específicas\n",
    "df_sabados = df_viagem[(df_viagem['dia_da_semana'] == 'Saturday') & (df_viagem['weather_conditions'].notnull())]\n",
    "\n",
    "# Ordena os resultados pelas condições climáticas\n",
    "df_sabados = df_sabados.sort_values(by='weather_conditions', ascending=True)\n",
    "\n",
    "\n",
    "\n",
    "\n"
   ]
  },
  {
   "cell_type": "markdown",
   "metadata": {},
   "source": [
    "\n",
    "<div class=\"alert alert-danger\">\n",
    "<strong>Comentário do revisor v2</strong>\n",
    "\n",
    "A avaliação da hipótese proposta ficou pendente.\n",
    "</div>\n"
   ]
  },
  {
   "cell_type": "markdown",
   "metadata": {},
   "source": [
    "\n",
    "<div class=\"alert alert-danger\">\n",
    "<strong>Comentário do revisor v3</strong>\n",
    "\n",
    "O teste foi muito bem executado, Paulo, mas trata-se de uma boa prática sempre explicitar com clareza as hipóteses que estão sendo testadas e qual o p-valor obtido que levou a conclusão apresentada.\n",
    "</div>\n"
   ]
  },
  {
   "cell_type": "markdown",
   "metadata": {},
   "source": [
    "\n",
    "<div class=\"alert alert-success\">\n",
    "<strong>Comentário do revisor v4</strong>\n",
    "\n",
    "Valeu pelo ajuste!\n",
    "</div>"
   ]
  },
  {
   "cell_type": "markdown",
   "metadata": {},
   "source": [
    "### Decida onde definir o nível de significância (alfa) por conta própria"
   ]
  },
  {
   "cell_type": "markdown",
   "metadata": {},
   "source": [
    "#### nível de significância (alfa)  = 0.05"
   ]
  },
  {
   "cell_type": "code",
   "execution_count": null,
   "metadata": {},
   "outputs": [],
   "source": [
    "\n",
    "# Filtrando os dados para sábados\n",
    "df_sabados = df_viagem[df_viagem['dia_da_semana'] == 'Saturday']\n",
    "\n",
    "# Separando os dados entre sábados chuvosos e não chuvosos\n",
    "sabados_chuvosos = df_sabados[df_sabados['weather_conditions'] == 'Bad']['duration_seconds']\n",
    "sabados_nao_chuvosos = df_sabados[df_sabados['weather_conditions'] == 'Good']['duration_seconds']\n",
    "\n",
    "# Realizando o teste t para amostras independentes\n",
    "t_stat, p_value = stats.ttest_ind(sabados_chuvosos, sabados_nao_chuvosos)\n",
    "\n",
    "# Imprimindo o p-value\n",
    "print(f\"p-value: {p_value}\")\n",
    "print('\\n')\n",
    "# Verificando o resultado\n",
    "alfa = 0.05\n",
    "if p_value < alfa:\n",
    "    print(\"Rejeitamos a hipótese nula. A duração média dos passeios muda nos sábados chuvosos.\")\n",
    "\n",
    "    \n",
    "else:\n",
    "    print(\"Não rejeitamos a hipótese nula. A duração média dos passeios não muda nos sábados chuvosos.\")\n",
    "\n"
   ]
  },
  {
   "cell_type": "markdown",
   "metadata": {},
   "source": [
    "#### como você formou as hipóteses nula e alternativa"
   ]
  },
  {
   "cell_type": "markdown",
   "metadata": {},
   "source": [
    "##### O teste t calcula o p-valor para determinar a probabilidade de obter as amostras observadas assumindo que a hipótese nula é verdadeira.\n",
    "\n",
    "Como o p-valor (6.517970327099473e-12) é menor que o nível de significância de 0.05, rejeitamos a hipótese nula. Isso sugere que o clima chuvoso afeta significativamente a duração média dos passeios.\n"
   ]
  },
  {
   "cell_type": "markdown",
   "metadata": {},
   "source": [
    "#####  O critério usado para testar a hipótese foi:\n",
    "\n",
    "O teste t de amostras independentes. Este teste foi escolhido porque estamos comparando as médias de dois grupos independentes (sábados chuvosos e não chuvosos) para determinar se há uma diferença significativa entre eles em termos da duração dos passeios."
   ]
  },
  {
   "cell_type": "code",
   "execution_count": null,
   "metadata": {},
   "outputs": [],
   "source": []
  }
 ],
 "metadata": {
  "ExecuteTimeLog": [
   {
    "duration": 4,
    "start_time": "2024-10-02T17:38:25.819Z"
   },
   {
    "duration": 163,
    "start_time": "2024-10-02T17:40:48.504Z"
   },
   {
    "duration": 313,
    "start_time": "2024-10-02T17:40:52.085Z"
   },
   {
    "duration": 10,
    "start_time": "2024-10-02T17:40:53.995Z"
   },
   {
    "duration": 49,
    "start_time": "2024-10-02T17:41:08.211Z"
   },
   {
    "duration": 13,
    "start_time": "2024-10-02T17:41:14.160Z"
   },
   {
    "duration": 19,
    "start_time": "2024-10-02T17:42:38.671Z"
   },
   {
    "duration": 2,
    "start_time": "2024-10-02T18:14:46.982Z"
   },
   {
    "duration": 14,
    "start_time": "2024-10-02T18:14:47.473Z"
   },
   {
    "duration": 10,
    "start_time": "2024-10-02T18:15:52.138Z"
   },
   {
    "duration": 10,
    "start_time": "2024-10-02T18:16:13.433Z"
   },
   {
    "duration": 3,
    "start_time": "2024-10-02T21:47:46.261Z"
   },
   {
    "duration": 17,
    "start_time": "2024-10-02T21:47:47.555Z"
   },
   {
    "duration": 8,
    "start_time": "2024-10-02T21:48:25.573Z"
   },
   {
    "duration": 6,
    "start_time": "2024-10-02T21:48:33.090Z"
   },
   {
    "duration": 6,
    "start_time": "2024-10-02T21:48:47.498Z"
   },
   {
    "duration": 7,
    "start_time": "2024-10-02T21:49:04.756Z"
   },
   {
    "duration": 5,
    "start_time": "2024-10-02T23:46:10.003Z"
   },
   {
    "duration": 6,
    "start_time": "2024-10-02T23:46:41.608Z"
   },
   {
    "duration": 3,
    "start_time": "2024-10-02T23:47:02.244Z"
   },
   {
    "duration": 15,
    "start_time": "2024-10-02T23:47:03.339Z"
   },
   {
    "duration": 5,
    "start_time": "2024-10-02T23:47:03.559Z"
   },
   {
    "duration": 6,
    "start_time": "2024-10-02T23:47:03.773Z"
   },
   {
    "duration": 8,
    "start_time": "2024-10-02T23:47:04.618Z"
   },
   {
    "duration": 14,
    "start_time": "2024-10-02T23:49:01.842Z"
   },
   {
    "duration": 5,
    "start_time": "2024-10-02T23:49:07.399Z"
   },
   {
    "duration": 6,
    "start_time": "2024-10-02T23:49:32.749Z"
   },
   {
    "duration": 2,
    "start_time": "2024-10-02T23:53:05.760Z"
   },
   {
    "duration": 11,
    "start_time": "2024-10-02T23:54:52.519Z"
   },
   {
    "duration": 5,
    "start_time": "2024-10-02T23:55:49.849Z"
   },
   {
    "duration": 14,
    "start_time": "2024-10-02T23:56:04.091Z"
   },
   {
    "duration": 10,
    "start_time": "2024-10-02T23:56:19.739Z"
   },
   {
    "duration": 15,
    "start_time": "2024-10-02T23:56:52.328Z"
   },
   {
    "duration": 5,
    "start_time": "2024-10-02T23:57:18.322Z"
   },
   {
    "duration": 11,
    "start_time": "2024-10-02T23:57:39.820Z"
   },
   {
    "duration": 12,
    "start_time": "2024-10-02T23:59:24.074Z"
   },
   {
    "duration": 384,
    "start_time": "2024-10-03T00:01:44.883Z"
   },
   {
    "duration": 7,
    "start_time": "2024-10-03T00:02:27.923Z"
   },
   {
    "duration": 4,
    "start_time": "2024-10-03T00:02:52.805Z"
   },
   {
    "duration": 4,
    "start_time": "2024-10-03T00:03:05.071Z"
   },
   {
    "duration": 9,
    "start_time": "2024-10-03T00:04:43.959Z"
   },
   {
    "duration": 9,
    "start_time": "2024-10-03T00:05:19.731Z"
   },
   {
    "duration": 5,
    "start_time": "2024-10-03T00:05:26.532Z"
   },
   {
    "duration": 5,
    "start_time": "2024-10-03T00:05:35.838Z"
   },
   {
    "duration": 5,
    "start_time": "2024-10-03T00:06:30.705Z"
   },
   {
    "duration": 6,
    "start_time": "2024-10-03T00:08:15.551Z"
   },
   {
    "duration": 7,
    "start_time": "2024-10-03T00:08:30.543Z"
   },
   {
    "duration": 7,
    "start_time": "2024-10-03T00:08:42.006Z"
   },
   {
    "duration": 2,
    "start_time": "2024-10-03T00:10:46.243Z"
   },
   {
    "duration": 2,
    "start_time": "2024-10-03T00:11:38.993Z"
   },
   {
    "duration": 5,
    "start_time": "2024-10-03T00:14:11.444Z"
   },
   {
    "duration": 6,
    "start_time": "2024-10-03T00:14:56.498Z"
   },
   {
    "duration": 7,
    "start_time": "2024-10-03T00:16:08.421Z"
   },
   {
    "duration": 6,
    "start_time": "2024-10-03T00:16:38.953Z"
   },
   {
    "duration": 7,
    "start_time": "2024-10-03T00:16:39.980Z"
   },
   {
    "duration": 6,
    "start_time": "2024-10-03T00:18:59.357Z"
   },
   {
    "duration": 13,
    "start_time": "2024-10-03T00:25:57.049Z"
   },
   {
    "duration": 4,
    "start_time": "2024-10-03T00:26:03.965Z"
   },
   {
    "duration": 14,
    "start_time": "2024-10-03T00:27:35.560Z"
   },
   {
    "duration": 16,
    "start_time": "2024-10-03T00:28:00.652Z"
   },
   {
    "duration": 5,
    "start_time": "2024-10-03T00:28:05.877Z"
   },
   {
    "duration": 6,
    "start_time": "2024-10-03T00:29:59.159Z"
   },
   {
    "duration": 4,
    "start_time": "2024-10-03T00:30:10.190Z"
   },
   {
    "duration": 5,
    "start_time": "2024-10-03T00:30:38.406Z"
   },
   {
    "duration": 4,
    "start_time": "2024-10-03T00:30:43.540Z"
   },
   {
    "duration": 5,
    "start_time": "2024-10-03T00:31:04.469Z"
   },
   {
    "duration": 14,
    "start_time": "2024-10-03T00:31:13.043Z"
   },
   {
    "duration": 10,
    "start_time": "2024-10-03T00:31:21.772Z"
   },
   {
    "duration": 5,
    "start_time": "2024-10-03T00:31:44.862Z"
   },
   {
    "duration": 4,
    "start_time": "2024-10-03T00:32:10.359Z"
   },
   {
    "duration": 5,
    "start_time": "2024-10-03T00:32:41.898Z"
   },
   {
    "duration": 266,
    "start_time": "2024-10-03T00:33:20.630Z"
   },
   {
    "duration": 15,
    "start_time": "2024-10-03T00:33:22.308Z"
   },
   {
    "duration": 9,
    "start_time": "2024-10-03T00:33:25.291Z"
   },
   {
    "duration": 9,
    "start_time": "2024-10-03T00:33:32.954Z"
   },
   {
    "duration": 8,
    "start_time": "2024-10-03T00:33:39.230Z"
   },
   {
    "duration": 6,
    "start_time": "2024-10-03T00:33:43.571Z"
   },
   {
    "duration": 6,
    "start_time": "2024-10-03T00:33:50.211Z"
   },
   {
    "duration": 5,
    "start_time": "2024-10-03T00:33:53.879Z"
   },
   {
    "duration": 6,
    "start_time": "2024-10-03T00:33:56.230Z"
   },
   {
    "duration": 5,
    "start_time": "2024-10-03T00:35:12.908Z"
   },
   {
    "duration": 3,
    "start_time": "2024-10-03T00:35:21.021Z"
   },
   {
    "duration": 4,
    "start_time": "2024-10-03T00:35:59.142Z"
   },
   {
    "duration": 4,
    "start_time": "2024-10-03T00:36:06.804Z"
   },
   {
    "duration": 4,
    "start_time": "2024-10-03T00:36:48.949Z"
   },
   {
    "duration": 3,
    "start_time": "2024-10-03T00:36:57.095Z"
   },
   {
    "duration": 6,
    "start_time": "2024-10-03T00:43:16.866Z"
   },
   {
    "duration": 6,
    "start_time": "2024-10-03T00:44:00.074Z"
   },
   {
    "duration": 188,
    "start_time": "2024-10-03T00:45:34.104Z"
   },
   {
    "duration": 8,
    "start_time": "2024-10-03T00:45:44.104Z"
   },
   {
    "duration": 6,
    "start_time": "2024-10-03T00:48:35.901Z"
   },
   {
    "duration": 6,
    "start_time": "2024-10-03T00:49:15.850Z"
   },
   {
    "duration": 5,
    "start_time": "2024-10-03T00:49:22.010Z"
   },
   {
    "duration": 4,
    "start_time": "2024-10-03T00:49:35.452Z"
   },
   {
    "duration": 12,
    "start_time": "2024-10-03T00:50:06.622Z"
   },
   {
    "duration": 5,
    "start_time": "2024-10-03T00:50:59.101Z"
   },
   {
    "duration": 5,
    "start_time": "2024-10-03T00:52:57.849Z"
   },
   {
    "duration": 4,
    "start_time": "2024-10-03T00:53:38.339Z"
   },
   {
    "duration": 4,
    "start_time": "2024-10-03T00:53:58.664Z"
   },
   {
    "duration": 3,
    "start_time": "2024-10-03T00:55:14.697Z"
   },
   {
    "duration": 13,
    "start_time": "2024-10-03T00:55:14.994Z"
   },
   {
    "duration": 6,
    "start_time": "2024-10-03T00:55:15.314Z"
   },
   {
    "duration": 6,
    "start_time": "2024-10-03T00:55:15.652Z"
   },
   {
    "duration": 8,
    "start_time": "2024-10-03T00:55:15.992Z"
   },
   {
    "duration": 5,
    "start_time": "2024-10-03T00:55:16.723Z"
   },
   {
    "duration": 6,
    "start_time": "2024-10-03T00:55:17.057Z"
   },
   {
    "duration": 5,
    "start_time": "2024-10-03T00:55:17.417Z"
   },
   {
    "duration": 4,
    "start_time": "2024-10-03T00:55:18.318Z"
   },
   {
    "duration": 4,
    "start_time": "2024-10-03T00:55:19.120Z"
   },
   {
    "duration": 328,
    "start_time": "2024-10-07T03:08:25.633Z"
   },
   {
    "duration": 15,
    "start_time": "2024-10-07T03:08:25.963Z"
   },
   {
    "duration": 11,
    "start_time": "2024-10-07T03:08:25.980Z"
   },
   {
    "duration": 7,
    "start_time": "2024-10-07T03:08:25.993Z"
   },
   {
    "duration": 6,
    "start_time": "2024-10-07T03:08:26.003Z"
   },
   {
    "duration": 5,
    "start_time": "2024-10-07T03:08:26.034Z"
   },
   {
    "duration": 5,
    "start_time": "2024-10-07T03:08:26.041Z"
   },
   {
    "duration": 7,
    "start_time": "2024-10-07T03:08:26.048Z"
   },
   {
    "duration": 4,
    "start_time": "2024-10-07T03:08:26.056Z"
   },
   {
    "duration": 4,
    "start_time": "2024-10-07T03:12:23.860Z"
   },
   {
    "duration": 5,
    "start_time": "2024-10-07T03:12:32.749Z"
   },
   {
    "duration": 4,
    "start_time": "2024-10-07T03:12:58.462Z"
   },
   {
    "duration": 9,
    "start_time": "2024-10-07T03:13:26.536Z"
   },
   {
    "duration": 182,
    "start_time": "2024-10-07T03:15:21.136Z"
   },
   {
    "duration": 2349,
    "start_time": "2024-10-07T03:15:50.382Z"
   },
   {
    "duration": 78,
    "start_time": "2024-10-07T03:16:23.807Z"
   },
   {
    "duration": 79,
    "start_time": "2024-10-07T03:16:39.798Z"
   },
   {
    "duration": 268,
    "start_time": "2024-10-07T03:17:27.103Z"
   },
   {
    "duration": 4,
    "start_time": "2024-10-07T03:18:07.622Z"
   },
   {
    "duration": 184,
    "start_time": "2024-10-07T03:18:27.257Z"
   },
   {
    "duration": 181,
    "start_time": "2024-10-07T03:18:49.991Z"
   },
   {
    "duration": 225,
    "start_time": "2024-10-07T03:19:33.350Z"
   },
   {
    "duration": 5,
    "start_time": "2024-10-07T03:20:00.225Z"
   },
   {
    "duration": 6,
    "start_time": "2024-10-07T03:20:15.936Z"
   },
   {
    "duration": 5,
    "start_time": "2024-10-07T03:20:55.887Z"
   },
   {
    "duration": 4,
    "start_time": "2024-10-07T03:21:13.139Z"
   },
   {
    "duration": 5,
    "start_time": "2024-10-07T03:21:32.543Z"
   },
   {
    "duration": 3,
    "start_time": "2024-10-07T03:21:39.566Z"
   },
   {
    "duration": 6,
    "start_time": "2024-10-07T03:22:00.927Z"
   },
   {
    "duration": 5,
    "start_time": "2024-10-07T03:22:26.894Z"
   },
   {
    "duration": 7,
    "start_time": "2024-10-07T03:22:35.503Z"
   },
   {
    "duration": 235,
    "start_time": "2024-10-07T03:23:12.079Z"
   },
   {
    "duration": 775,
    "start_time": "2024-10-07T03:23:43.233Z"
   },
   {
    "duration": 164,
    "start_time": "2024-10-07T03:24:43.461Z"
   },
   {
    "duration": 164,
    "start_time": "2024-10-07T03:25:08.992Z"
   },
   {
    "duration": 17,
    "start_time": "2024-10-07T03:25:35.233Z"
   },
   {
    "duration": 5,
    "start_time": "2024-10-07T03:25:41.726Z"
   },
   {
    "duration": 5,
    "start_time": "2024-10-07T03:26:02.448Z"
   },
   {
    "duration": 8,
    "start_time": "2024-10-07T03:26:36.163Z"
   },
   {
    "duration": 169,
    "start_time": "2024-10-07T03:26:44.000Z"
   },
   {
    "duration": 172,
    "start_time": "2024-10-07T03:27:51.553Z"
   },
   {
    "duration": 176,
    "start_time": "2024-10-07T03:27:57.361Z"
   },
   {
    "duration": 165,
    "start_time": "2024-10-07T03:32:08.752Z"
   },
   {
    "duration": 169,
    "start_time": "2024-10-07T03:32:21.377Z"
   },
   {
    "duration": 1091,
    "start_time": "2024-10-07T03:34:47.029Z"
   },
   {
    "duration": 16,
    "start_time": "2024-10-07T03:35:15.925Z"
   },
   {
    "duration": 1032,
    "start_time": "2024-10-07T03:35:45.281Z"
   },
   {
    "duration": 368,
    "start_time": "2024-10-07T03:36:04.103Z"
   },
   {
    "duration": 195,
    "start_time": "2024-10-07T03:36:21.445Z"
   },
   {
    "duration": 288,
    "start_time": "2024-10-07T03:37:32.402Z"
   },
   {
    "duration": 25,
    "start_time": "2024-10-07T03:38:20.226Z"
   },
   {
    "duration": 1147,
    "start_time": "2024-10-07T03:41:26.018Z"
   },
   {
    "duration": 1048,
    "start_time": "2024-10-07T03:43:14.807Z"
   },
   {
    "duration": 1031,
    "start_time": "2024-10-07T03:43:28.709Z"
   },
   {
    "duration": 1051,
    "start_time": "2024-10-07T03:43:55.051Z"
   },
   {
    "duration": 169,
    "start_time": "2024-10-07T03:44:40.436Z"
   },
   {
    "duration": 1189,
    "start_time": "2024-10-07T03:44:57.348Z"
   },
   {
    "duration": 224,
    "start_time": "2024-10-07T03:46:05.411Z"
   },
   {
    "duration": 236,
    "start_time": "2024-10-07T03:47:48.743Z"
   },
   {
    "duration": 238,
    "start_time": "2024-10-07T03:48:04.564Z"
   },
   {
    "duration": 217,
    "start_time": "2024-10-07T03:48:35.414Z"
   },
   {
    "duration": 227,
    "start_time": "2024-10-07T03:48:38.180Z"
   },
   {
    "duration": 10,
    "start_time": "2024-10-07T03:49:19.869Z"
   },
   {
    "duration": 7,
    "start_time": "2024-10-07T03:49:28.405Z"
   },
   {
    "duration": 331,
    "start_time": "2024-10-07T03:49:46.615Z"
   },
   {
    "duration": 7,
    "start_time": "2024-10-07T03:50:05.957Z"
   },
   {
    "duration": 236,
    "start_time": "2024-10-07T03:53:54.103Z"
   },
   {
    "duration": 220,
    "start_time": "2024-10-07T03:54:33.318Z"
   },
   {
    "duration": 8,
    "start_time": "2024-10-07T03:57:18.953Z"
   },
   {
    "duration": 139,
    "start_time": "2024-10-07T03:58:42.723Z"
   },
   {
    "duration": 41,
    "start_time": "2024-10-07T04:00:53.382Z"
   },
   {
    "duration": 33,
    "start_time": "2024-10-07T04:01:35.703Z"
   },
   {
    "duration": 4,
    "start_time": "2024-10-07T04:03:49.543Z"
   },
   {
    "duration": 5,
    "start_time": "2024-10-07T04:04:24.599Z"
   },
   {
    "duration": 6,
    "start_time": "2024-10-07T04:04:33.210Z"
   },
   {
    "duration": 30,
    "start_time": "2024-10-07T04:05:15.287Z"
   },
   {
    "duration": 5,
    "start_time": "2024-10-07T04:05:49.432Z"
   },
   {
    "duration": 7,
    "start_time": "2024-10-07T04:06:05.496Z"
   },
   {
    "duration": 15,
    "start_time": "2024-10-07T04:06:48.423Z"
   },
   {
    "duration": 4,
    "start_time": "2024-10-07T04:07:14.360Z"
   },
   {
    "duration": 6,
    "start_time": "2024-10-07T04:07:38.745Z"
   },
   {
    "duration": 5,
    "start_time": "2024-10-07T04:08:18.455Z"
   },
   {
    "duration": 6,
    "start_time": "2024-10-07T04:08:30.648Z"
   },
   {
    "duration": 455,
    "start_time": "2024-10-07T04:09:39.307Z"
   },
   {
    "duration": 30,
    "start_time": "2024-10-07T04:09:50.590Z"
   },
   {
    "duration": 6,
    "start_time": "2024-10-07T04:10:06.374Z"
   },
   {
    "duration": 6,
    "start_time": "2024-10-07T04:10:21.249Z"
   },
   {
    "duration": 161,
    "start_time": "2024-10-07T04:10:25.212Z"
   },
   {
    "duration": 171,
    "start_time": "2024-10-07T04:11:14.107Z"
   },
   {
    "duration": 258,
    "start_time": "2024-10-07T04:12:09.835Z"
   },
   {
    "duration": 138,
    "start_time": "2024-10-07T04:13:48.977Z"
   },
   {
    "duration": 137,
    "start_time": "2024-10-07T04:14:46.921Z"
   },
   {
    "duration": 138,
    "start_time": "2024-10-07T04:15:18.840Z"
   },
   {
    "duration": 137,
    "start_time": "2024-10-07T04:15:45.324Z"
   },
   {
    "duration": 148,
    "start_time": "2024-10-07T04:16:27.578Z"
   },
   {
    "duration": 8,
    "start_time": "2024-10-07T04:17:35.710Z"
   },
   {
    "duration": 5,
    "start_time": "2024-10-07T04:18:04.436Z"
   },
   {
    "duration": 163,
    "start_time": "2024-10-07T04:18:13.841Z"
   },
   {
    "duration": 5,
    "start_time": "2024-10-07T04:18:23.395Z"
   },
   {
    "duration": 139,
    "start_time": "2024-10-07T04:19:53.886Z"
   },
   {
    "duration": 148,
    "start_time": "2024-10-07T04:20:31.883Z"
   },
   {
    "duration": 46,
    "start_time": "2024-10-07T04:20:54.058Z"
   },
   {
    "duration": 51,
    "start_time": "2024-10-07T04:21:38.563Z"
   },
   {
    "duration": 51,
    "start_time": "2024-10-07T04:21:45.466Z"
   },
   {
    "duration": 47,
    "start_time": "2024-10-07T04:21:49.578Z"
   },
   {
    "duration": 47,
    "start_time": "2024-10-07T04:22:01.480Z"
   },
   {
    "duration": 47,
    "start_time": "2024-10-07T04:22:19.547Z"
   },
   {
    "duration": 191,
    "start_time": "2024-10-07T04:22:43.826Z"
   },
   {
    "duration": 65,
    "start_time": "2024-10-07T04:26:14.718Z"
   },
   {
    "duration": 43,
    "start_time": "2024-10-07T04:26:56.043Z"
   },
   {
    "duration": 50,
    "start_time": "2024-10-07T04:27:02.875Z"
   },
   {
    "duration": 57,
    "start_time": "2024-10-07T04:27:11.354Z"
   },
   {
    "duration": 47,
    "start_time": "2024-10-07T04:30:15.645Z"
   },
   {
    "duration": 27,
    "start_time": "2024-10-07T04:32:27.852Z"
   },
   {
    "duration": 25,
    "start_time": "2024-10-07T04:33:37.502Z"
   },
   {
    "duration": 27,
    "start_time": "2024-10-07T04:34:52.717Z"
   },
   {
    "duration": 74,
    "start_time": "2024-10-07T04:35:32.544Z"
   },
   {
    "duration": 9,
    "start_time": "2024-10-07T04:36:13.923Z"
   },
   {
    "duration": 5,
    "start_time": "2024-10-07T04:36:18.062Z"
   },
   {
    "duration": 818,
    "start_time": "2024-10-07T04:36:50.855Z"
   },
   {
    "duration": 15,
    "start_time": "2024-10-07T04:36:51.675Z"
   },
   {
    "duration": 8,
    "start_time": "2024-10-07T04:36:51.691Z"
   },
   {
    "duration": 6,
    "start_time": "2024-10-07T04:36:51.702Z"
   },
   {
    "duration": 23,
    "start_time": "2024-10-07T04:36:51.710Z"
   },
   {
    "duration": 4,
    "start_time": "2024-10-07T04:36:51.735Z"
   },
   {
    "duration": 4,
    "start_time": "2024-10-07T04:36:51.742Z"
   },
   {
    "duration": 5,
    "start_time": "2024-10-07T04:36:51.748Z"
   },
   {
    "duration": 4,
    "start_time": "2024-10-07T04:36:51.754Z"
   },
   {
    "duration": 6,
    "start_time": "2024-10-07T04:36:51.761Z"
   },
   {
    "duration": 251,
    "start_time": "2024-10-07T04:36:51.769Z"
   },
   {
    "duration": 7,
    "start_time": "2024-10-07T04:36:52.021Z"
   },
   {
    "duration": 837,
    "start_time": "2024-10-07T04:36:52.030Z"
   },
   {
    "duration": 278,
    "start_time": "2024-10-07T04:37:21.534Z"
   },
   {
    "duration": 301,
    "start_time": "2024-10-07T04:38:27.520Z"
   },
   {
    "duration": 249,
    "start_time": "2024-10-07T04:38:48.864Z"
   },
   {
    "duration": 256,
    "start_time": "2024-10-07T04:39:01.058Z"
   },
   {
    "duration": 5,
    "start_time": "2024-10-07T04:39:47.609Z"
   },
   {
    "duration": 4,
    "start_time": "2024-10-07T04:40:47.169Z"
   },
   {
    "duration": 8,
    "start_time": "2024-10-07T04:41:04.912Z"
   },
   {
    "duration": 8,
    "start_time": "2024-10-07T04:41:18.824Z"
   },
   {
    "duration": 8,
    "start_time": "2024-10-07T04:41:32.235Z"
   },
   {
    "duration": 15,
    "start_time": "2024-10-07T04:41:41.472Z"
   },
   {
    "duration": 16,
    "start_time": "2024-10-07T04:42:00.431Z"
   },
   {
    "duration": 15,
    "start_time": "2024-10-07T04:42:06.481Z"
   },
   {
    "duration": 7,
    "start_time": "2024-10-07T04:43:14.799Z"
   },
   {
    "duration": 15,
    "start_time": "2024-10-07T04:43:53.967Z"
   },
   {
    "duration": 8,
    "start_time": "2024-10-07T04:44:06.577Z"
   },
   {
    "duration": 7,
    "start_time": "2024-10-07T04:44:12.877Z"
   },
   {
    "duration": 12,
    "start_time": "2024-10-07T04:48:05.746Z"
   },
   {
    "duration": 13,
    "start_time": "2024-10-07T04:48:09.933Z"
   },
   {
    "duration": 9,
    "start_time": "2024-10-07T04:48:20.161Z"
   },
   {
    "duration": 9,
    "start_time": "2024-10-07T04:48:57.016Z"
   },
   {
    "duration": 10,
    "start_time": "2024-10-07T04:51:06.226Z"
   },
   {
    "duration": 3,
    "start_time": "2024-10-07T04:52:01.651Z"
   },
   {
    "duration": 10,
    "start_time": "2024-10-07T04:52:21.201Z"
   },
   {
    "duration": 9,
    "start_time": "2024-10-07T04:53:18.079Z"
   },
   {
    "duration": 11,
    "start_time": "2024-10-07T04:54:16.242Z"
   },
   {
    "duration": 3,
    "start_time": "2024-10-07T04:54:54.516Z"
   },
   {
    "duration": 10,
    "start_time": "2024-10-07T04:55:09.746Z"
   },
   {
    "duration": 3,
    "start_time": "2024-10-07T13:38:55.131Z"
   },
   {
    "duration": 155,
    "start_time": "2024-10-07T13:39:02.886Z"
   },
   {
    "duration": 2477,
    "start_time": "2024-10-07T13:39:13.387Z"
   },
   {
    "duration": 21,
    "start_time": "2024-10-07T13:39:15.866Z"
   },
   {
    "duration": 6,
    "start_time": "2024-10-07T13:39:15.889Z"
   },
   {
    "duration": 5,
    "start_time": "2024-10-07T13:39:15.897Z"
   },
   {
    "duration": 7,
    "start_time": "2024-10-07T13:39:15.905Z"
   },
   {
    "duration": 15,
    "start_time": "2024-10-07T13:39:15.914Z"
   },
   {
    "duration": 9,
    "start_time": "2024-10-07T13:39:15.931Z"
   },
   {
    "duration": 5,
    "start_time": "2024-10-07T13:39:15.942Z"
   },
   {
    "duration": 4,
    "start_time": "2024-10-07T13:39:15.948Z"
   },
   {
    "duration": 8,
    "start_time": "2024-10-07T13:39:15.953Z"
   },
   {
    "duration": 5,
    "start_time": "2024-10-07T13:39:15.963Z"
   },
   {
    "duration": 8,
    "start_time": "2024-10-07T13:39:15.969Z"
   },
   {
    "duration": 51,
    "start_time": "2024-10-07T13:39:15.978Z"
   },
   {
    "duration": 6,
    "start_time": "2024-10-07T13:39:16.032Z"
   },
   {
    "duration": 218,
    "start_time": "2024-10-07T13:39:16.039Z"
   },
   {
    "duration": 6,
    "start_time": "2024-10-07T13:39:16.258Z"
   },
   {
    "duration": 260,
    "start_time": "2024-10-07T13:39:16.266Z"
   },
   {
    "duration": 9,
    "start_time": "2024-10-07T13:39:16.528Z"
   },
   {
    "duration": 256,
    "start_time": "2024-10-07T14:01:39.451Z"
   },
   {
    "duration": 302,
    "start_time": "2024-10-07T14:02:06.299Z"
   },
   {
    "duration": 8,
    "start_time": "2024-10-07T14:03:42.096Z"
   },
   {
    "duration": 719,
    "start_time": "2024-10-07T14:08:45.033Z"
   },
   {
    "duration": 11,
    "start_time": "2024-10-07T14:10:01.448Z"
   },
   {
    "duration": 11,
    "start_time": "2024-10-07T14:10:17.570Z"
   },
   {
    "duration": 7,
    "start_time": "2024-10-07T14:11:06.787Z"
   },
   {
    "duration": 8,
    "start_time": "2024-10-07T14:11:37.149Z"
   },
   {
    "duration": 46,
    "start_time": "2024-10-07T14:11:53.771Z"
   },
   {
    "duration": 10,
    "start_time": "2024-10-07T14:12:35.465Z"
   },
   {
    "duration": 24,
    "start_time": "2024-10-07T14:12:47.827Z"
   },
   {
    "duration": 9,
    "start_time": "2024-10-07T14:13:02.104Z"
   },
   {
    "duration": 9,
    "start_time": "2024-10-07T14:13:18.477Z"
   },
   {
    "duration": 803,
    "start_time": "2024-10-07T14:13:45.087Z"
   },
   {
    "duration": 12,
    "start_time": "2024-10-07T14:13:45.892Z"
   },
   {
    "duration": 24,
    "start_time": "2024-10-07T14:13:45.906Z"
   },
   {
    "duration": 12,
    "start_time": "2024-10-07T14:13:45.937Z"
   },
   {
    "duration": 14,
    "start_time": "2024-10-07T14:13:45.951Z"
   },
   {
    "duration": 6,
    "start_time": "2024-10-07T14:13:45.967Z"
   },
   {
    "duration": 8,
    "start_time": "2024-10-07T14:13:45.974Z"
   },
   {
    "duration": 5,
    "start_time": "2024-10-07T14:13:45.984Z"
   },
   {
    "duration": 5,
    "start_time": "2024-10-07T14:13:45.990Z"
   },
   {
    "duration": 37,
    "start_time": "2024-10-07T14:13:45.998Z"
   },
   {
    "duration": 7,
    "start_time": "2024-10-07T14:13:46.037Z"
   },
   {
    "duration": 11,
    "start_time": "2024-10-07T14:13:46.046Z"
   },
   {
    "duration": 9,
    "start_time": "2024-10-07T14:13:46.058Z"
   },
   {
    "duration": 6,
    "start_time": "2024-10-07T14:13:46.068Z"
   },
   {
    "duration": 276,
    "start_time": "2024-10-07T14:13:46.076Z"
   },
   {
    "duration": 6,
    "start_time": "2024-10-07T14:13:46.354Z"
   },
   {
    "duration": 253,
    "start_time": "2024-10-07T14:13:46.362Z"
   },
   {
    "duration": 13,
    "start_time": "2024-10-07T14:13:46.624Z"
   },
   {
    "duration": 14,
    "start_time": "2024-10-07T14:13:46.639Z"
   },
   {
    "duration": 9,
    "start_time": "2024-10-07T14:13:46.655Z"
   },
   {
    "duration": 4,
    "start_time": "2024-10-07T14:14:13.282Z"
   },
   {
    "duration": 15,
    "start_time": "2024-10-07T14:14:24.944Z"
   },
   {
    "duration": 11,
    "start_time": "2024-10-07T14:16:14.053Z"
   },
   {
    "duration": 779,
    "start_time": "2024-10-07T14:19:01.640Z"
   },
   {
    "duration": 160,
    "start_time": "2024-10-07T14:19:45.717Z"
   },
   {
    "duration": 10,
    "start_time": "2024-10-07T14:20:25.198Z"
   },
   {
    "duration": 20,
    "start_time": "2024-10-07T14:21:34.129Z"
   },
   {
    "duration": 24,
    "start_time": "2024-10-07T14:21:45.124Z"
   },
   {
    "duration": 13,
    "start_time": "2024-10-07T14:21:55.150Z"
   },
   {
    "duration": 10,
    "start_time": "2024-10-07T14:22:07.989Z"
   },
   {
    "duration": 10,
    "start_time": "2024-10-07T14:22:13.002Z"
   },
   {
    "duration": 9,
    "start_time": "2024-10-07T14:23:03.749Z"
   },
   {
    "duration": 37,
    "start_time": "2024-10-07T14:23:09.511Z"
   },
   {
    "duration": 12,
    "start_time": "2024-10-07T14:23:32.006Z"
   },
   {
    "duration": 16,
    "start_time": "2024-10-07T14:23:45.559Z"
   },
   {
    "duration": 22,
    "start_time": "2024-10-07T14:23:52.823Z"
   },
   {
    "duration": 17,
    "start_time": "2024-10-07T14:24:11.284Z"
   },
   {
    "duration": 15,
    "start_time": "2024-10-07T14:24:24.844Z"
   },
   {
    "duration": 15,
    "start_time": "2024-10-07T14:24:42.551Z"
   },
   {
    "duration": 253,
    "start_time": "2024-10-07T14:27:51.526Z"
   },
   {
    "duration": 7,
    "start_time": "2024-10-07T14:28:51.560Z"
   },
   {
    "duration": 45,
    "start_time": "2024-10-07T14:31:35.275Z"
   },
   {
    "duration": 6,
    "start_time": "2024-10-07T14:35:52.483Z"
   },
   {
    "duration": 463,
    "start_time": "2024-10-07T14:38:03.733Z"
   },
   {
    "duration": 3,
    "start_time": "2024-10-07T14:38:49.002Z"
   },
   {
    "duration": 46,
    "start_time": "2024-10-07T14:39:16.542Z"
   },
   {
    "duration": 10,
    "start_time": "2024-10-07T14:39:50.619Z"
   },
   {
    "duration": 6,
    "start_time": "2024-10-07T14:40:27.714Z"
   },
   {
    "duration": 4,
    "start_time": "2024-10-07T14:45:21.001Z"
   },
   {
    "duration": 2,
    "start_time": "2024-10-07T14:53:21.962Z"
   },
   {
    "duration": 216,
    "start_time": "2024-10-07T14:55:27.774Z"
   },
   {
    "duration": 2,
    "start_time": "2024-10-07T14:56:31.965Z"
   },
   {
    "duration": 2555,
    "start_time": "2024-10-07T18:11:37.011Z"
   },
   {
    "duration": 24,
    "start_time": "2024-10-07T18:11:39.568Z"
   },
   {
    "duration": 9,
    "start_time": "2024-10-07T18:11:39.594Z"
   },
   {
    "duration": 7,
    "start_time": "2024-10-07T18:11:39.605Z"
   },
   {
    "duration": 10,
    "start_time": "2024-10-07T18:11:39.615Z"
   },
   {
    "duration": 17,
    "start_time": "2024-10-07T18:11:39.628Z"
   },
   {
    "duration": 9,
    "start_time": "2024-10-07T18:11:39.647Z"
   },
   {
    "duration": 6,
    "start_time": "2024-10-07T18:11:39.658Z"
   },
   {
    "duration": 4,
    "start_time": "2024-10-07T18:11:39.665Z"
   },
   {
    "duration": 9,
    "start_time": "2024-10-07T18:11:39.671Z"
   },
   {
    "duration": 4,
    "start_time": "2024-10-07T18:11:39.682Z"
   },
   {
    "duration": 8,
    "start_time": "2024-10-07T18:11:39.689Z"
   },
   {
    "duration": 7,
    "start_time": "2024-10-07T18:11:39.743Z"
   },
   {
    "duration": 6,
    "start_time": "2024-10-07T18:11:39.754Z"
   },
   {
    "duration": 218,
    "start_time": "2024-10-07T18:11:39.761Z"
   },
   {
    "duration": 6,
    "start_time": "2024-10-07T18:11:39.981Z"
   },
   {
    "duration": 285,
    "start_time": "2024-10-07T18:11:39.989Z"
   },
   {
    "duration": 9,
    "start_time": "2024-10-07T18:11:40.276Z"
   },
   {
    "duration": 16,
    "start_time": "2024-10-07T18:11:40.287Z"
   },
   {
    "duration": 8,
    "start_time": "2024-10-07T18:11:40.304Z"
   },
   {
    "duration": 4,
    "start_time": "2024-10-07T18:11:46.817Z"
   },
   {
    "duration": 162,
    "start_time": "2024-10-07T18:20:00.676Z"
   },
   {
    "duration": 2518,
    "start_time": "2024-10-07T18:20:13.246Z"
   },
   {
    "duration": 17,
    "start_time": "2024-10-07T18:20:15.767Z"
   },
   {
    "duration": 8,
    "start_time": "2024-10-07T18:20:15.786Z"
   },
   {
    "duration": 6,
    "start_time": "2024-10-07T18:20:15.795Z"
   },
   {
    "duration": 8,
    "start_time": "2024-10-07T18:20:15.804Z"
   },
   {
    "duration": 7,
    "start_time": "2024-10-07T18:20:15.823Z"
   },
   {
    "duration": 8,
    "start_time": "2024-10-07T18:20:15.831Z"
   },
   {
    "duration": 4,
    "start_time": "2024-10-07T18:20:15.841Z"
   },
   {
    "duration": 4,
    "start_time": "2024-10-07T18:20:15.847Z"
   },
   {
    "duration": 8,
    "start_time": "2024-10-07T18:20:15.853Z"
   },
   {
    "duration": 4,
    "start_time": "2024-10-07T18:20:15.862Z"
   },
   {
    "duration": 8,
    "start_time": "2024-10-07T18:20:15.868Z"
   },
   {
    "duration": 51,
    "start_time": "2024-10-07T18:20:15.878Z"
   },
   {
    "duration": 6,
    "start_time": "2024-10-07T18:20:15.932Z"
   },
   {
    "duration": 213,
    "start_time": "2024-10-07T18:20:15.939Z"
   },
   {
    "duration": 5,
    "start_time": "2024-10-07T18:20:16.154Z"
   },
   {
    "duration": 265,
    "start_time": "2024-10-07T18:20:16.161Z"
   },
   {
    "duration": 13,
    "start_time": "2024-10-07T18:20:16.429Z"
   },
   {
    "duration": 16,
    "start_time": "2024-10-07T18:20:16.444Z"
   },
   {
    "duration": 7,
    "start_time": "2024-10-07T18:20:16.462Z"
   },
   {
    "duration": 10,
    "start_time": "2024-10-07T18:22:24.568Z"
   },
   {
    "duration": 9,
    "start_time": "2024-10-07T18:23:23.792Z"
   },
   {
    "duration": 8,
    "start_time": "2024-10-07T18:23:40.690Z"
   },
   {
    "duration": 10,
    "start_time": "2024-10-07T18:25:04.032Z"
   },
   {
    "duration": 8,
    "start_time": "2024-10-07T18:25:28.385Z"
   },
   {
    "duration": 7,
    "start_time": "2024-10-07T18:25:56.616Z"
   },
   {
    "duration": 774,
    "start_time": "2024-10-07T18:27:29.286Z"
   },
   {
    "duration": 11,
    "start_time": "2024-10-07T18:27:30.063Z"
   },
   {
    "duration": 7,
    "start_time": "2024-10-07T18:27:30.076Z"
   },
   {
    "duration": 5,
    "start_time": "2024-10-07T18:27:30.085Z"
   },
   {
    "duration": 34,
    "start_time": "2024-10-07T18:27:30.093Z"
   },
   {
    "duration": 9,
    "start_time": "2024-10-07T18:27:30.128Z"
   },
   {
    "duration": 10,
    "start_time": "2024-10-07T18:27:30.139Z"
   },
   {
    "duration": 5,
    "start_time": "2024-10-07T18:27:30.151Z"
   },
   {
    "duration": 4,
    "start_time": "2024-10-07T18:27:30.158Z"
   },
   {
    "duration": 9,
    "start_time": "2024-10-07T18:27:30.163Z"
   },
   {
    "duration": 6,
    "start_time": "2024-10-07T18:27:30.173Z"
   },
   {
    "duration": 53,
    "start_time": "2024-10-07T18:27:30.181Z"
   },
   {
    "duration": 9,
    "start_time": "2024-10-07T18:27:30.236Z"
   },
   {
    "duration": 8,
    "start_time": "2024-10-07T18:27:30.248Z"
   },
   {
    "duration": 230,
    "start_time": "2024-10-07T18:27:30.258Z"
   },
   {
    "duration": 9,
    "start_time": "2024-10-07T18:27:30.490Z"
   },
   {
    "duration": 292,
    "start_time": "2024-10-07T18:27:30.501Z"
   },
   {
    "duration": 12,
    "start_time": "2024-10-07T18:27:30.795Z"
   },
   {
    "duration": 30,
    "start_time": "2024-10-07T18:27:30.810Z"
   },
   {
    "duration": 8,
    "start_time": "2024-10-07T18:27:30.843Z"
   }
  ],
  "kernelspec": {
   "display_name": "Python 3",
   "language": "python",
   "name": "python3"
  },
  "language_info": {
   "codemirror_mode": {
    "name": "ipython",
    "version": 3
   },
   "file_extension": ".py",
   "mimetype": "text/x-python",
   "name": "python",
   "nbconvert_exporter": "python",
   "pygments_lexer": "ipython3",
   "version": "3.12.7"
  },
  "toc": {
   "base_numbering": 1,
   "nav_menu": {},
   "number_sections": true,
   "sideBar": true,
   "skip_h1_title": true,
   "title_cell": "Table of Contents",
   "title_sidebar": "Contents",
   "toc_cell": false,
   "toc_position": {},
   "toc_section_display": true,
   "toc_window_display": false
  }
 },
 "nbformat": 4,
 "nbformat_minor": 2
}
